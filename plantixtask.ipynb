{
 "cells": [
  {
   "cell_type": "code",
   "execution_count": 1,
   "id": "1974c2f3",
   "metadata": {},
   "outputs": [
    {
     "data": {
      "text/plain": [
       "'C:\\\\Users\\\\dell'"
      ]
     },
     "execution_count": 1,
     "metadata": {},
     "output_type": "execute_result"
    }
   ],
   "source": [
    "pwd\n"
   ]
  },
  {
   "cell_type": "code",
   "execution_count": 49,
   "id": "6f209e4e",
   "metadata": {},
   "outputs": [],
   "source": [
    "import pandas as pd\n",
    "import matplotlib.pyplot as plt"
   ]
  },
  {
   "cell_type": "code",
   "execution_count": 50,
   "id": "78b66838",
   "metadata": {},
   "outputs": [],
   "source": [
    "lg=pd.read_csv('C:\\\\Users\\\\dell\\\\Downloads\\\\login_logs.csv')"
   ]
  },
  {
   "cell_type": "code",
   "execution_count": 51,
   "id": "88b56d21",
   "metadata": {},
   "outputs": [
    {
     "data": {
      "text/html": [
       "<div>\n",
       "<style scoped>\n",
       "    .dataframe tbody tr th:only-of-type {\n",
       "        vertical-align: middle;\n",
       "    }\n",
       "\n",
       "    .dataframe tbody tr th {\n",
       "        vertical-align: top;\n",
       "    }\n",
       "\n",
       "    .dataframe thead th {\n",
       "        text-align: right;\n",
       "    }\n",
       "</style>\n",
       "<table border=\"1\" class=\"dataframe\">\n",
       "  <thead>\n",
       "    <tr style=\"text-align: right;\">\n",
       "      <th></th>\n",
       "      <th>login_log_id</th>\n",
       "      <th>user_id</th>\n",
       "      <th>login_time</th>\n",
       "    </tr>\n",
       "  </thead>\n",
       "  <tbody>\n",
       "    <tr>\n",
       "      <th>0</th>\n",
       "      <td>1385328</td>\n",
       "      <td>99160</td>\n",
       "      <td>2021-07-01 00:00:33.0</td>\n",
       "    </tr>\n",
       "    <tr>\n",
       "      <th>1</th>\n",
       "      <td>1385329</td>\n",
       "      <td>83272</td>\n",
       "      <td>2021-07-01 00:00:38.0</td>\n",
       "    </tr>\n",
       "    <tr>\n",
       "      <th>2</th>\n",
       "      <td>1385330</td>\n",
       "      <td>83272</td>\n",
       "      <td>2021-07-01 00:00:42.0</td>\n",
       "    </tr>\n",
       "    <tr>\n",
       "      <th>3</th>\n",
       "      <td>1385331</td>\n",
       "      <td>96640</td>\n",
       "      <td>2021-07-01 00:02:08.0</td>\n",
       "    </tr>\n",
       "    <tr>\n",
       "      <th>4</th>\n",
       "      <td>1385332</td>\n",
       "      <td>99160</td>\n",
       "      <td>2021-07-01 00:02:38.0</td>\n",
       "    </tr>\n",
       "    <tr>\n",
       "      <th>...</th>\n",
       "      <td>...</td>\n",
       "      <td>...</td>\n",
       "      <td>...</td>\n",
       "    </tr>\n",
       "    <tr>\n",
       "      <th>666352</th>\n",
       "      <td>4670509</td>\n",
       "      <td>207632</td>\n",
       "      <td>2022-07-30 23:47:02.0</td>\n",
       "    </tr>\n",
       "    <tr>\n",
       "      <th>666353</th>\n",
       "      <td>4670510</td>\n",
       "      <td>207632</td>\n",
       "      <td>2022-07-30 23:49:39.0</td>\n",
       "    </tr>\n",
       "    <tr>\n",
       "      <th>666354</th>\n",
       "      <td>4670511</td>\n",
       "      <td>207632</td>\n",
       "      <td>2022-07-30 23:49:43.0</td>\n",
       "    </tr>\n",
       "    <tr>\n",
       "      <th>666355</th>\n",
       "      <td>4670512</td>\n",
       "      <td>111788</td>\n",
       "      <td>2022-07-30 23:51:22.0</td>\n",
       "    </tr>\n",
       "    <tr>\n",
       "      <th>666356</th>\n",
       "      <td>4670513</td>\n",
       "      <td>111788</td>\n",
       "      <td>2022-07-30 23:51:37.0</td>\n",
       "    </tr>\n",
       "  </tbody>\n",
       "</table>\n",
       "<p>666357 rows × 3 columns</p>\n",
       "</div>"
      ],
      "text/plain": [
       "        login_log_id  user_id             login_time\n",
       "0            1385328    99160  2021-07-01 00:00:33.0\n",
       "1            1385329    83272  2021-07-01 00:00:38.0\n",
       "2            1385330    83272  2021-07-01 00:00:42.0\n",
       "3            1385331    96640  2021-07-01 00:02:08.0\n",
       "4            1385332    99160  2021-07-01 00:02:38.0\n",
       "...              ...      ...                    ...\n",
       "666352       4670509   207632  2022-07-30 23:47:02.0\n",
       "666353       4670510   207632  2022-07-30 23:49:39.0\n",
       "666354       4670511   207632  2022-07-30 23:49:43.0\n",
       "666355       4670512   111788  2022-07-30 23:51:22.0\n",
       "666356       4670513   111788  2022-07-30 23:51:37.0\n",
       "\n",
       "[666357 rows x 3 columns]"
      ]
     },
     "execution_count": 51,
     "metadata": {},
     "output_type": "execute_result"
    }
   ],
   "source": [
    "lg"
   ]
  },
  {
   "cell_type": "code",
   "execution_count": 52,
   "id": "6e335ee3",
   "metadata": {},
   "outputs": [],
   "source": [
    "soi=pd.read_csv('C:\\\\Users\\\\dell\\\\Downloads\\\\sales_orders_items.csv')"
   ]
  },
  {
   "cell_type": "code",
   "execution_count": 53,
   "id": "92dda0b6",
   "metadata": {},
   "outputs": [
    {
     "data": {
      "text/html": [
       "<div>\n",
       "<style scoped>\n",
       "    .dataframe tbody tr th:only-of-type {\n",
       "        vertical-align: middle;\n",
       "    }\n",
       "\n",
       "    .dataframe tbody tr th {\n",
       "        vertical-align: top;\n",
       "    }\n",
       "\n",
       "    .dataframe thead th {\n",
       "        text-align: right;\n",
       "    }\n",
       "</style>\n",
       "<table border=\"1\" class=\"dataframe\">\n",
       "  <thead>\n",
       "    <tr style=\"text-align: right;\">\n",
       "      <th></th>\n",
       "      <th>order_item_id</th>\n",
       "      <th>fk_product_id</th>\n",
       "      <th>fk_order_id</th>\n",
       "      <th>ordered_quantity</th>\n",
       "      <th>order_quantity_accepted</th>\n",
       "      <th>rate</th>\n",
       "    </tr>\n",
       "  </thead>\n",
       "  <tbody>\n",
       "    <tr>\n",
       "      <th>0</th>\n",
       "      <td>62609</td>\n",
       "      <td>7818</td>\n",
       "      <td>119874</td>\n",
       "      <td>1</td>\n",
       "      <td>0</td>\n",
       "      <td>4993.00</td>\n",
       "    </tr>\n",
       "    <tr>\n",
       "      <th>1</th>\n",
       "      <td>62610</td>\n",
       "      <td>7607</td>\n",
       "      <td>119877</td>\n",
       "      <td>1</td>\n",
       "      <td>0</td>\n",
       "      <td>6203.40</td>\n",
       "    </tr>\n",
       "    <tr>\n",
       "      <th>2</th>\n",
       "      <td>62611</td>\n",
       "      <td>9916</td>\n",
       "      <td>119880</td>\n",
       "      <td>2</td>\n",
       "      <td>2</td>\n",
       "      <td>2904.41</td>\n",
       "    </tr>\n",
       "    <tr>\n",
       "      <th>3</th>\n",
       "      <td>62612</td>\n",
       "      <td>11118</td>\n",
       "      <td>119880</td>\n",
       "      <td>2</td>\n",
       "      <td>2</td>\n",
       "      <td>2205.00</td>\n",
       "    </tr>\n",
       "    <tr>\n",
       "      <th>4</th>\n",
       "      <td>62613</td>\n",
       "      <td>12702</td>\n",
       "      <td>119880</td>\n",
       "      <td>2</td>\n",
       "      <td>2</td>\n",
       "      <td>2200.85</td>\n",
       "    </tr>\n",
       "    <tr>\n",
       "      <th>...</th>\n",
       "      <td>...</td>\n",
       "      <td>...</td>\n",
       "      <td>...</td>\n",
       "      <td>...</td>\n",
       "      <td>...</td>\n",
       "      <td>...</td>\n",
       "    </tr>\n",
       "    <tr>\n",
       "      <th>20483</th>\n",
       "      <td>157584</td>\n",
       "      <td>10975</td>\n",
       "      <td>318966</td>\n",
       "      <td>1</td>\n",
       "      <td>1</td>\n",
       "      <td>12632.00</td>\n",
       "    </tr>\n",
       "    <tr>\n",
       "      <th>20484</th>\n",
       "      <td>157585</td>\n",
       "      <td>10975</td>\n",
       "      <td>318966</td>\n",
       "      <td>1</td>\n",
       "      <td>0</td>\n",
       "      <td>11814.00</td>\n",
       "    </tr>\n",
       "    <tr>\n",
       "      <th>20485</th>\n",
       "      <td>157586</td>\n",
       "      <td>10975</td>\n",
       "      <td>318966</td>\n",
       "      <td>1</td>\n",
       "      <td>1</td>\n",
       "      <td>10110.00</td>\n",
       "    </tr>\n",
       "    <tr>\n",
       "      <th>20486</th>\n",
       "      <td>157587</td>\n",
       "      <td>3284</td>\n",
       "      <td>318969</td>\n",
       "      <td>1</td>\n",
       "      <td>0</td>\n",
       "      <td>5271.00</td>\n",
       "    </tr>\n",
       "    <tr>\n",
       "      <th>20487</th>\n",
       "      <td>157588</td>\n",
       "      <td>8421</td>\n",
       "      <td>318972</td>\n",
       "      <td>1</td>\n",
       "      <td>1</td>\n",
       "      <td>4714.00</td>\n",
       "    </tr>\n",
       "  </tbody>\n",
       "</table>\n",
       "<p>20488 rows × 6 columns</p>\n",
       "</div>"
      ],
      "text/plain": [
       "       order_item_id  fk_product_id  fk_order_id  ordered_quantity  \\\n",
       "0              62609           7818       119874                 1   \n",
       "1              62610           7607       119877                 1   \n",
       "2              62611           9916       119880                 2   \n",
       "3              62612          11118       119880                 2   \n",
       "4              62613          12702       119880                 2   \n",
       "...              ...            ...          ...               ...   \n",
       "20483         157584          10975       318966                 1   \n",
       "20484         157585          10975       318966                 1   \n",
       "20485         157586          10975       318966                 1   \n",
       "20486         157587           3284       318969                 1   \n",
       "20487         157588           8421       318972                 1   \n",
       "\n",
       "       order_quantity_accepted      rate  \n",
       "0                            0   4993.00  \n",
       "1                            0   6203.40  \n",
       "2                            2   2904.41  \n",
       "3                            2   2205.00  \n",
       "4                            2   2200.85  \n",
       "...                        ...       ...  \n",
       "20483                        1  12632.00  \n",
       "20484                        0  11814.00  \n",
       "20485                        1  10110.00  \n",
       "20486                        0   5271.00  \n",
       "20487                        1   4714.00  \n",
       "\n",
       "[20488 rows x 6 columns]"
      ]
     },
     "execution_count": 53,
     "metadata": {},
     "output_type": "execute_result"
    }
   ],
   "source": [
    "soi"
   ]
  },
  {
   "cell_type": "code",
   "execution_count": 54,
   "id": "097ae4f5",
   "metadata": {},
   "outputs": [],
   "source": [
    "so=pd.read_csv('C:\\\\Users\\\\dell\\\\Downloads\\\\sales_orders.csv')"
   ]
  },
  {
   "cell_type": "code",
   "execution_count": 55,
   "id": "9456ec9d",
   "metadata": {},
   "outputs": [
    {
     "data": {
      "text/html": [
       "<div>\n",
       "<style scoped>\n",
       "    .dataframe tbody tr th:only-of-type {\n",
       "        vertical-align: middle;\n",
       "    }\n",
       "\n",
       "    .dataframe tbody tr th {\n",
       "        vertical-align: top;\n",
       "    }\n",
       "\n",
       "    .dataframe thead th {\n",
       "        text-align: right;\n",
       "    }\n",
       "</style>\n",
       "<table border=\"1\" class=\"dataframe\">\n",
       "  <thead>\n",
       "    <tr style=\"text-align: right;\">\n",
       "      <th></th>\n",
       "      <th>order_id</th>\n",
       "      <th>fk_buyer_id</th>\n",
       "      <th>fk_depot_id</th>\n",
       "      <th>sales_order_status</th>\n",
       "      <th>creation_time</th>\n",
       "    </tr>\n",
       "  </thead>\n",
       "  <tbody>\n",
       "    <tr>\n",
       "      <th>0</th>\n",
       "      <td>119874</td>\n",
       "      <td>82228</td>\n",
       "      <td>5</td>\n",
       "      <td>Rejected</td>\n",
       "      <td>2021-07-01 00:35:28.0</td>\n",
       "    </tr>\n",
       "    <tr>\n",
       "      <th>1</th>\n",
       "      <td>119877</td>\n",
       "      <td>40476</td>\n",
       "      <td>1</td>\n",
       "      <td>Rejected</td>\n",
       "      <td>2021-07-01 02:02:43.0</td>\n",
       "    </tr>\n",
       "    <tr>\n",
       "      <th>2</th>\n",
       "      <td>119880</td>\n",
       "      <td>41728</td>\n",
       "      <td>8</td>\n",
       "      <td>Shipped</td>\n",
       "      <td>2021-07-01 02:42:12.0</td>\n",
       "    </tr>\n",
       "    <tr>\n",
       "      <th>3</th>\n",
       "      <td>119883</td>\n",
       "      <td>97616</td>\n",
       "      <td>4</td>\n",
       "      <td>Rejected</td>\n",
       "      <td>2021-07-01 02:56:00.0</td>\n",
       "    </tr>\n",
       "    <tr>\n",
       "      <th>4</th>\n",
       "      <td>119886</td>\n",
       "      <td>12440</td>\n",
       "      <td>1</td>\n",
       "      <td>Rejected</td>\n",
       "      <td>2021-07-01 03:11:31.0</td>\n",
       "    </tr>\n",
       "    <tr>\n",
       "      <th>...</th>\n",
       "      <td>...</td>\n",
       "      <td>...</td>\n",
       "      <td>...</td>\n",
       "      <td>...</td>\n",
       "      <td>...</td>\n",
       "    </tr>\n",
       "    <tr>\n",
       "      <th>13625</th>\n",
       "      <td>318960</td>\n",
       "      <td>63380</td>\n",
       "      <td>10</td>\n",
       "      <td>Rejected</td>\n",
       "      <td>2022-07-30 16:02:58.0</td>\n",
       "    </tr>\n",
       "    <tr>\n",
       "      <th>13626</th>\n",
       "      <td>318963</td>\n",
       "      <td>69544</td>\n",
       "      <td>5</td>\n",
       "      <td>Rejected</td>\n",
       "      <td>2022-07-30 16:30:26.0</td>\n",
       "    </tr>\n",
       "    <tr>\n",
       "      <th>13627</th>\n",
       "      <td>318966</td>\n",
       "      <td>167048</td>\n",
       "      <td>1</td>\n",
       "      <td>Shipped</td>\n",
       "      <td>2022-07-30 16:57:31.0</td>\n",
       "    </tr>\n",
       "    <tr>\n",
       "      <th>13628</th>\n",
       "      <td>318969</td>\n",
       "      <td>122360</td>\n",
       "      <td>2</td>\n",
       "      <td>Rejected</td>\n",
       "      <td>2022-07-30 17:53:54.0</td>\n",
       "    </tr>\n",
       "    <tr>\n",
       "      <th>13629</th>\n",
       "      <td>318972</td>\n",
       "      <td>190076</td>\n",
       "      <td>9</td>\n",
       "      <td>Shipped</td>\n",
       "      <td>2022-07-30 18:17:49.0</td>\n",
       "    </tr>\n",
       "  </tbody>\n",
       "</table>\n",
       "<p>13630 rows × 5 columns</p>\n",
       "</div>"
      ],
      "text/plain": [
       "       order_id  fk_buyer_id  fk_depot_id sales_order_status  \\\n",
       "0        119874        82228            5           Rejected   \n",
       "1        119877        40476            1           Rejected   \n",
       "2        119880        41728            8            Shipped   \n",
       "3        119883        97616            4           Rejected   \n",
       "4        119886        12440            1           Rejected   \n",
       "...         ...          ...          ...                ...   \n",
       "13625    318960        63380           10           Rejected   \n",
       "13626    318963        69544            5           Rejected   \n",
       "13627    318966       167048            1            Shipped   \n",
       "13628    318969       122360            2           Rejected   \n",
       "13629    318972       190076            9            Shipped   \n",
       "\n",
       "               creation_time  \n",
       "0      2021-07-01 00:35:28.0  \n",
       "1      2021-07-01 02:02:43.0  \n",
       "2      2021-07-01 02:42:12.0  \n",
       "3      2021-07-01 02:56:00.0  \n",
       "4      2021-07-01 03:11:31.0  \n",
       "...                      ...  \n",
       "13625  2022-07-30 16:02:58.0  \n",
       "13626  2022-07-30 16:30:26.0  \n",
       "13627  2022-07-30 16:57:31.0  \n",
       "13628  2022-07-30 17:53:54.0  \n",
       "13629  2022-07-30 18:17:49.0  \n",
       "\n",
       "[13630 rows x 5 columns]"
      ]
     },
     "execution_count": 55,
     "metadata": {},
     "output_type": "execute_result"
    }
   ],
   "source": [
    "so\n"
   ]
  },
  {
   "cell_type": "code",
   "execution_count": 56,
   "id": "517dd963",
   "metadata": {},
   "outputs": [
    {
     "name": "stdout",
     "output_type": "stream",
     "text": [
      "<class 'pandas.core.frame.DataFrame'>\n",
      "RangeIndex: 666357 entries, 0 to 666356\n",
      "Data columns (total 3 columns):\n",
      " #   Column        Non-Null Count   Dtype \n",
      "---  ------        --------------   ----- \n",
      " 0   login_log_id  666357 non-null  int64 \n",
      " 1   user_id       666357 non-null  int64 \n",
      " 2   login_time    666357 non-null  object\n",
      "dtypes: int64(2), object(1)\n",
      "memory usage: 15.3+ MB\n"
     ]
    }
   ],
   "source": [
    "lg.info()"
   ]
  },
  {
   "cell_type": "code",
   "execution_count": 57,
   "id": "47501d12",
   "metadata": {},
   "outputs": [
    {
     "data": {
      "text/plain": [
       "575568"
      ]
     },
     "execution_count": 57,
     "metadata": {},
     "output_type": "execute_result"
    }
   ],
   "source": [
    "lg.login_time.nunique()"
   ]
  },
  {
   "cell_type": "code",
   "execution_count": 58,
   "id": "f6bafc7d",
   "metadata": {},
   "outputs": [],
   "source": [
    "#print(lg.login_time.mean())"
   ]
  },
  {
   "cell_type": "code",
   "execution_count": 59,
   "id": "854083ae",
   "metadata": {},
   "outputs": [
    {
     "data": {
      "text/plain": [
       "13630"
      ]
     },
     "execution_count": 59,
     "metadata": {},
     "output_type": "execute_result"
    }
   ],
   "source": [
    "so.order_id.nunique()"
   ]
  },
  {
   "cell_type": "code",
   "execution_count": 85,
   "id": "e41db46c",
   "metadata": {},
   "outputs": [
    {
     "data": {
      "text/plain": [
       "787"
      ]
     },
     "execution_count": 85,
     "metadata": {},
     "output_type": "execute_result"
    }
   ],
   "source": [
    "soi.fk_product_id.nunique()"
   ]
  },
  {
   "cell_type": "code",
   "execution_count": 60,
   "id": "e4e78a29",
   "metadata": {},
   "outputs": [],
   "source": [
    "# Assigning a log column to each logintime\n",
    "lg['log'] = lg['login_time']\n",
    "lg['user']= lg['user_id']\n",
    "# Calculating total number of posts per week for each user\n",
    "total_logs = lg.groupby(['user', 'log']).size().reset_index(name ='Total_logs')\n",
    "\n",
    "# Estimating average frequency of making logs for each user\n",
    "freq_login_per_logs = total_logs.groupby('log')['Total_logs'].mean().reset_index(name ='Avg_login_per_logs')"
   ]
  },
  {
   "cell_type": "code",
   "execution_count": 61,
   "id": "4738d79f",
   "metadata": {},
   "outputs": [
    {
     "data": {
      "text/html": [
       "<div>\n",
       "<style scoped>\n",
       "    .dataframe tbody tr th:only-of-type {\n",
       "        vertical-align: middle;\n",
       "    }\n",
       "\n",
       "    .dataframe tbody tr th {\n",
       "        vertical-align: top;\n",
       "    }\n",
       "\n",
       "    .dataframe thead th {\n",
       "        text-align: right;\n",
       "    }\n",
       "</style>\n",
       "<table border=\"1\" class=\"dataframe\">\n",
       "  <thead>\n",
       "    <tr style=\"text-align: right;\">\n",
       "      <th></th>\n",
       "      <th>log</th>\n",
       "      <th>Avg_login_per_logs</th>\n",
       "    </tr>\n",
       "  </thead>\n",
       "  <tbody>\n",
       "    <tr>\n",
       "      <th>0</th>\n",
       "      <td>2021-07-01 00:00:33.0</td>\n",
       "      <td>1.0</td>\n",
       "    </tr>\n",
       "    <tr>\n",
       "      <th>1</th>\n",
       "      <td>2021-07-01 00:00:38.0</td>\n",
       "      <td>1.0</td>\n",
       "    </tr>\n",
       "    <tr>\n",
       "      <th>2</th>\n",
       "      <td>2021-07-01 00:00:42.0</td>\n",
       "      <td>1.0</td>\n",
       "    </tr>\n",
       "    <tr>\n",
       "      <th>3</th>\n",
       "      <td>2021-07-01 00:02:08.0</td>\n",
       "      <td>1.0</td>\n",
       "    </tr>\n",
       "    <tr>\n",
       "      <th>4</th>\n",
       "      <td>2021-07-01 00:02:38.0</td>\n",
       "      <td>1.0</td>\n",
       "    </tr>\n",
       "    <tr>\n",
       "      <th>...</th>\n",
       "      <td>...</td>\n",
       "      <td>...</td>\n",
       "    </tr>\n",
       "    <tr>\n",
       "      <th>575563</th>\n",
       "      <td>2022-07-30 23:47:02.0</td>\n",
       "      <td>1.0</td>\n",
       "    </tr>\n",
       "    <tr>\n",
       "      <th>575564</th>\n",
       "      <td>2022-07-30 23:49:39.0</td>\n",
       "      <td>1.0</td>\n",
       "    </tr>\n",
       "    <tr>\n",
       "      <th>575565</th>\n",
       "      <td>2022-07-30 23:49:43.0</td>\n",
       "      <td>1.0</td>\n",
       "    </tr>\n",
       "    <tr>\n",
       "      <th>575566</th>\n",
       "      <td>2022-07-30 23:51:22.0</td>\n",
       "      <td>1.0</td>\n",
       "    </tr>\n",
       "    <tr>\n",
       "      <th>575567</th>\n",
       "      <td>2022-07-30 23:51:37.0</td>\n",
       "      <td>1.0</td>\n",
       "    </tr>\n",
       "  </tbody>\n",
       "</table>\n",
       "<p>575568 rows × 2 columns</p>\n",
       "</div>"
      ],
      "text/plain": [
       "                          log  Avg_login_per_logs\n",
       "0       2021-07-01 00:00:33.0                 1.0\n",
       "1       2021-07-01 00:00:38.0                 1.0\n",
       "2       2021-07-01 00:00:42.0                 1.0\n",
       "3       2021-07-01 00:02:08.0                 1.0\n",
       "4       2021-07-01 00:02:38.0                 1.0\n",
       "...                       ...                 ...\n",
       "575563  2022-07-30 23:47:02.0                 1.0\n",
       "575564  2022-07-30 23:49:39.0                 1.0\n",
       "575565  2022-07-30 23:49:43.0                 1.0\n",
       "575566  2022-07-30 23:51:22.0                 1.0\n",
       "575567  2022-07-30 23:51:37.0                 1.0\n",
       "\n",
       "[575568 rows x 2 columns]"
      ]
     },
     "execution_count": 61,
     "metadata": {},
     "output_type": "execute_result"
    }
   ],
   "source": [
    "freq_login_per_logs "
   ]
  },
  {
   "cell_type": "code",
   "execution_count": 62,
   "id": "80dbe786",
   "metadata": {},
   "outputs": [],
   "source": [
    "# Assigning sales column to each order\n",
    "soi['sales'] = soi['ordered_quantity']\n",
    "soi['order']= soi['order_quantity_accepted']\n",
    "# Calculating total number of posts per week for each user\n",
    "total_sales = soi.groupby(['sales','order']).size().reset_index(name ='Total_sales')\n",
    "\n",
    "# Estimating average frequency of making logs for each user\n",
    "freq_sales_per_person = total_sales.groupby('sales')['Total_sales'].mean().reset_index(name ='Avg_sales_per_person')"
   ]
  },
  {
   "cell_type": "code",
   "execution_count": 63,
   "id": "b43a14ac",
   "metadata": {},
   "outputs": [
    {
     "data": {
      "text/html": [
       "<div>\n",
       "<style scoped>\n",
       "    .dataframe tbody tr th:only-of-type {\n",
       "        vertical-align: middle;\n",
       "    }\n",
       "\n",
       "    .dataframe tbody tr th {\n",
       "        vertical-align: top;\n",
       "    }\n",
       "\n",
       "    .dataframe thead th {\n",
       "        text-align: right;\n",
       "    }\n",
       "</style>\n",
       "<table border=\"1\" class=\"dataframe\">\n",
       "  <thead>\n",
       "    <tr style=\"text-align: right;\">\n",
       "      <th></th>\n",
       "      <th>sales</th>\n",
       "      <th>Avg_sales_per_person</th>\n",
       "    </tr>\n",
       "  </thead>\n",
       "  <tbody>\n",
       "    <tr>\n",
       "      <th>0</th>\n",
       "      <td>1</td>\n",
       "      <td>6286.000000</td>\n",
       "    </tr>\n",
       "    <tr>\n",
       "      <th>1</th>\n",
       "      <td>2</td>\n",
       "      <td>1105.333333</td>\n",
       "    </tr>\n",
       "    <tr>\n",
       "      <th>2</th>\n",
       "      <td>3</td>\n",
       "      <td>288.750000</td>\n",
       "    </tr>\n",
       "    <tr>\n",
       "      <th>3</th>\n",
       "      <td>4</td>\n",
       "      <td>139.400000</td>\n",
       "    </tr>\n",
       "    <tr>\n",
       "      <th>4</th>\n",
       "      <td>5</td>\n",
       "      <td>183.166667</td>\n",
       "    </tr>\n",
       "    <tr>\n",
       "      <th>...</th>\n",
       "      <td>...</td>\n",
       "      <td>...</td>\n",
       "    </tr>\n",
       "    <tr>\n",
       "      <th>87</th>\n",
       "      <td>450</td>\n",
       "      <td>1.000000</td>\n",
       "    </tr>\n",
       "    <tr>\n",
       "      <th>88</th>\n",
       "      <td>481</td>\n",
       "      <td>1.000000</td>\n",
       "    </tr>\n",
       "    <tr>\n",
       "      <th>89</th>\n",
       "      <td>500</td>\n",
       "      <td>1.000000</td>\n",
       "    </tr>\n",
       "    <tr>\n",
       "      <th>90</th>\n",
       "      <td>835</td>\n",
       "      <td>1.000000</td>\n",
       "    </tr>\n",
       "    <tr>\n",
       "      <th>91</th>\n",
       "      <td>999</td>\n",
       "      <td>1.000000</td>\n",
       "    </tr>\n",
       "  </tbody>\n",
       "</table>\n",
       "<p>92 rows × 2 columns</p>\n",
       "</div>"
      ],
      "text/plain": [
       "    sales  Avg_sales_per_person\n",
       "0       1           6286.000000\n",
       "1       2           1105.333333\n",
       "2       3            288.750000\n",
       "3       4            139.400000\n",
       "4       5            183.166667\n",
       "..    ...                   ...\n",
       "87    450              1.000000\n",
       "88    481              1.000000\n",
       "89    500              1.000000\n",
       "90    835              1.000000\n",
       "91    999              1.000000\n",
       "\n",
       "[92 rows x 2 columns]"
      ]
     },
     "execution_count": 63,
     "metadata": {},
     "output_type": "execute_result"
    }
   ],
   "source": [
    "freq_sales_per_person"
   ]
  },
  {
   "cell_type": "code",
   "execution_count": 66,
   "id": "953d9db3",
   "metadata": {},
   "outputs": [
    {
     "data": {
      "image/png": "[encoded data removed]",
      "text/plain": [
       "<Figure size 432x288 with 1 Axes>"
      ]
     },
     "metadata": {
      "needs_background": "light"
     },
     "output_type": "display_data"
    }
   ],
   "source": [
    "x1=soi['order_quantity_accepted']\n",
    "plt.plot(x1)\n",
    "\n",
    "plt.show()"
   ]
  },
  {
   "cell_type": "code",
   "execution_count": 84,
   "id": "1f6371e8",
   "metadata": {},
   "outputs": [
    {
     "data": {
      "image/png": "[encoded data removed]",
      "text/plain": [
       "<Figure size 432x288 with 1 Axes>"
      ]
     },
     "metadata": {
      "needs_background": "light"
     },
     "output_type": "display_data"
    }
   ],
   "source": [
    "x1=soi['order_item_id']\n",
    " \n",
    "plt.plot(x1)\n",
    "\n",
    "plt.show()"
   ]
  },
  {
   "cell_type": "code",
   "execution_count": 81,
   "id": "97adf117",
   "metadata": {},
   "outputs": [
    {
     "name": "stdout",
     "output_type": "stream",
     "text": [
      "13630\n"
     ]
    }
   ],
   "source": [
    "\n",
    "x = so['order_id'].count()\n",
    "\n",
    "\n",
    "print(x)\n"
   ]
  },
  {
   "cell_type": "code",
   "execution_count": 103,
   "id": "9e77d2be",
   "metadata": {},
   "outputs": [
    {
     "data": {
      "image/png": "[encoded data removed]",
      "text/plain": [
       "<Figure size 432x288 with 1 Axes>"
      ]
     },
     "metadata": {
      "needs_background": "light"
     },
     "output_type": "display_data"
    }
   ],
   "source": [
    "x=soi['fk_product_id']\n",
    "y=soi['ordered_quantity']\n",
    "plt.bar(x,y)\n",
    "plt.show()"
   ]
  },
  {
   "cell_type": "code",
   "execution_count": 109,
   "id": "f611a859",
   "metadata": {},
   "outputs": [
    {
     "data": {
      "image/png": "[encoded data removed]",
      "text/plain": [
       "<Figure size 432x288 with 1 Axes>"
      ]
     },
     "metadata": {
      "needs_background": "light"
     },
     "output_type": "display_data"
    }
   ],
   "source": [
    "x=soi['ordered_quantity']\n",
    "y=soi['order_quantity_accepted']\n",
    "\n",
    "\n",
    "plt.bar(x,y)\n",
    "plt.show()"
   ]
  },
  {
   "cell_type": "code",
   "execution_count": 111,
   "id": "de0c8530",
   "metadata": {},
   "outputs": [
    {
     "data": {
      "image/png": "[encoded data removed]",
      "text/plain": [
       "<Figure size 432x288 with 1 Axes>"
      ]
     },
     "metadata": {
      "needs_background": "light"
     },
     "output_type": "display_data"
    }
   ],
   "source": [
    "x=soi['ordered_quantity']\n",
    "\n",
    "\n",
    "plt.plot(x)\n",
    "plt.show()"
   ]
  },
  {
   "cell_type": "code",
   "execution_count": null,
   "id": "fda3480f",
   "metadata": {},
   "outputs": [],
   "source": []
  }
 ],
 "metadata": {
  "kernelspec": {
   "display_name": "Python 3 (ipykernel)",
   "language": "python",
   "name": "python3"
  },
  "language_info": {
   "codemirror_mode": {
    "name": "ipython",
    "version": 3
   },
   "file_extension": ".py",
   "mimetype": "text/x-python",
   "name": "python",
   "nbconvert_exporter": "python",
   "pygments_lexer": "ipython3",
   "version": "3.9.7"
  }
 },
 "nbformat": 4,
 "nbformat_minor": 5
}
